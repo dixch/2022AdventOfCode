{
 "cells": [
  {
   "cell_type": "code",
   "execution_count": 29,
   "metadata": {},
   "outputs": [
    {
     "data": {
      "text/plain": [
       "['2-4,6-8', '2-3,4-5', '5-7,7-9', '2-8,3-7', '6-6,4-6', '2-6,4-8']"
      ]
     },
     "execution_count": 29,
     "metadata": {},
     "output_type": "execute_result"
    }
   ],
   "source": [
    "f = open('Day4Sample.txt', 'r')\n",
    "range_list = []\n",
    "for l in f.readlines():\n",
    "    range_list.append(l.strip())\n",
    "\n",
    "range_list"
   ]
  },
  {
   "cell_type": "code",
   "execution_count": 40,
   "metadata": {},
   "outputs": [],
   "source": [
    "def make_set(p):\n",
    "    \"\"\"makes a set from a string range\n",
    "    Example: '2-4' -> {2, 3, 4}\n",
    "    \"\"\"\n",
    "    p = p.split('-')\n",
    "    return set(range(int(p[0]), int(p[1])+1))\n",
    "    \n",
    "assert(make_set('2-4')) == {2, 3, 4}"
   ]
  },
  {
   "cell_type": "code",
   "execution_count": 46,
   "metadata": {},
   "outputs": [],
   "source": [
    "def compare_ranges(string_pair):\n",
    "    \"\"\"Takes a string representing a pair of ranges; see if one is contained in the other\n",
    "    Example: '2-8,3-7' -> True\"\"\"\n",
    "    \n",
    "    pair_list = string_pair.split(',')\n",
    "    partner1 = make_set(pair_list[0])\n",
    "    partner2 = make_set(pair_list[1])\n",
    "    if partner1.issubset(partner2):\n",
    "        return True\n",
    "    elif partner2.issubset(partner1):\n",
    "        return True\n",
    "    else:\n",
    "        return False\n",
    "    \n",
    "\n",
    "assert(compare_ranges('2-8,3-7') == True)\n",
    "assert(compare_ranges('2-4,6-8') == False)"
   ]
  },
  {
   "cell_type": "code",
   "execution_count": 48,
   "metadata": {},
   "outputs": [
    {
     "data": {
      "text/plain": [
       "2"
      ]
     },
     "execution_count": 48,
     "metadata": {},
     "output_type": "execute_result"
    }
   ],
   "source": [
    "sum([compare_ranges(x) for x in range_list])"
   ]
  },
  {
   "cell_type": "code",
   "execution_count": null,
   "metadata": {},
   "outputs": [],
   "source": [
    "#Now on the real input:"
   ]
  },
  {
   "cell_type": "code",
   "execution_count": 49,
   "metadata": {},
   "outputs": [],
   "source": [
    "f = open('Day4Input.txt', 'r')\n",
    "range_list = []\n",
    "for l in f.readlines():\n",
    "    range_list.append(l.strip())"
   ]
  },
  {
   "cell_type": "code",
   "execution_count": 50,
   "metadata": {},
   "outputs": [
    {
     "data": {
      "text/plain": [
       "518"
      ]
     },
     "execution_count": 50,
     "metadata": {},
     "output_type": "execute_result"
    }
   ],
   "source": [
    "sum([compare_ranges(x) for x in range_list])"
   ]
  },
  {
   "cell_type": "code",
   "execution_count": 52,
   "metadata": {},
   "outputs": [],
   "source": [
    "# Part 2: find overlap\n",
    "\n",
    "def ranges_overlap(string_pair):\n",
    "    \"\"\"Takes a string representing a pair of ranges; see if they overlap\n",
    "    Example: '2-8,3-7' -> True\"\"\"\n",
    "    \n",
    "    pair_list = string_pair.split(',')\n",
    "    partner1 = make_set(pair_list[0])\n",
    "    partner2 = make_set(pair_list[1])\n",
    "    if len(partner1.intersection(partner2)) > 0:\n",
    "        return True\n",
    "    else:\n",
    "        return False\n",
    "    \n",
    "\n",
    "assert(ranges_overlap('2-8,3-7') == True)\n",
    "assert(ranges_overlap('2-4,6-8') == False)\n",
    "assert(ranges_overlap('2-6,4-8') == True)"
   ]
  },
  {
   "cell_type": "code",
   "execution_count": 53,
   "metadata": {},
   "outputs": [
    {
     "data": {
      "text/plain": [
       "909"
      ]
     },
     "execution_count": 53,
     "metadata": {},
     "output_type": "execute_result"
    }
   ],
   "source": [
    "sum([ranges_overlap(x) for x in range_list])"
   ]
  },
  {
   "cell_type": "code",
   "execution_count": null,
   "metadata": {},
   "outputs": [],
   "source": []
  }
 ],
 "metadata": {
  "kernelspec": {
   "display_name": "Python 3",
   "language": "python",
   "name": "python3"
  },
  "language_info": {
   "codemirror_mode": {
    "name": "ipython",
    "version": 3
   },
   "file_extension": ".py",
   "mimetype": "text/x-python",
   "name": "python",
   "nbconvert_exporter": "python",
   "pygments_lexer": "ipython3",
   "version": "3.7.3"
  }
 },
 "nbformat": 4,
 "nbformat_minor": 4
}
