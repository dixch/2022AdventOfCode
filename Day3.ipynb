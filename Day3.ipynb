{
 "cells": [
  {
   "cell_type": "code",
   "execution_count": 26,
   "metadata": {},
   "outputs": [],
   "source": [
    "import pandas as pd\n",
    "import string"
   ]
  },
  {
   "cell_type": "code",
   "execution_count": 5,
   "metadata": {},
   "outputs": [],
   "source": [
    "df = pd.read_csv(\"Day3Sample.txt\", header=None)"
   ]
  },
  {
   "cell_type": "code",
   "execution_count": 6,
   "metadata": {},
   "outputs": [
    {
     "data": {
      "text/html": [
       "<div>\n",
       "<style scoped>\n",
       "    .dataframe tbody tr th:only-of-type {\n",
       "        vertical-align: middle;\n",
       "    }\n",
       "\n",
       "    .dataframe tbody tr th {\n",
       "        vertical-align: top;\n",
       "    }\n",
       "\n",
       "    .dataframe thead th {\n",
       "        text-align: right;\n",
       "    }\n",
       "</style>\n",
       "<table border=\"1\" class=\"dataframe\">\n",
       "  <thead>\n",
       "    <tr style=\"text-align: right;\">\n",
       "      <th></th>\n",
       "      <th>0</th>\n",
       "    </tr>\n",
       "  </thead>\n",
       "  <tbody>\n",
       "    <tr>\n",
       "      <th>0</th>\n",
       "      <td>vJrwpWtwJgWrhcsFMMfFFhFp</td>\n",
       "    </tr>\n",
       "    <tr>\n",
       "      <th>1</th>\n",
       "      <td>jqHRNqRjqzjGDLGLrsFMfFZSrLrFZsSL</td>\n",
       "    </tr>\n",
       "    <tr>\n",
       "      <th>2</th>\n",
       "      <td>PmmdzqPrVvPwwTWBwg</td>\n",
       "    </tr>\n",
       "    <tr>\n",
       "      <th>3</th>\n",
       "      <td>wMqvLMZHhHMvwLHjbvcjnnSBnvTQFn</td>\n",
       "    </tr>\n",
       "    <tr>\n",
       "      <th>4</th>\n",
       "      <td>ttgJtRGJQctTZtZT</td>\n",
       "    </tr>\n",
       "    <tr>\n",
       "      <th>5</th>\n",
       "      <td>CrZsJsPPZsGzwwsLwLmpwMDw</td>\n",
       "    </tr>\n",
       "  </tbody>\n",
       "</table>\n",
       "</div>"
      ],
      "text/plain": [
       "                                  0\n",
       "0          vJrwpWtwJgWrhcsFMMfFFhFp\n",
       "1  jqHRNqRjqzjGDLGLrsFMfFZSrLrFZsSL\n",
       "2                PmmdzqPrVvPwwTWBwg\n",
       "3    wMqvLMZHhHMvwLHjbvcjnnSBnvTQFn\n",
       "4                  ttgJtRGJQctTZtZT\n",
       "5          CrZsJsPPZsGzwwsLwLmpwMDw"
      ]
     },
     "execution_count": 6,
     "metadata": {},
     "output_type": "execute_result"
    }
   ],
   "source": [
    "df"
   ]
  },
  {
   "cell_type": "code",
   "execution_count": 8,
   "metadata": {},
   "outputs": [],
   "source": [
    "test = df.loc[0,0]"
   ]
  },
  {
   "cell_type": "code",
   "execution_count": 21,
   "metadata": {},
   "outputs": [
    {
     "name": "stdout",
     "output_type": "stream",
     "text": [
      "12\n",
      "vJrwpWtwJgWrhcsFMMfFFhFp {'t', 'w', 'W', 'J', 'r', 'p', 'v', 'g'} {'M', 'F', 'f', 'c', 's', 'p', 'h'}\n"
     ]
    }
   ],
   "source": [
    "l = int(len(test)/2)\n",
    "print(l)\n",
    "first = set(test[:l])\n",
    "second = set(test[l:])\n",
    "print(test, first, second)"
   ]
  },
  {
   "cell_type": "code",
   "execution_count": 47,
   "metadata": {},
   "outputs": [
    {
     "data": {
      "text/plain": [
       "'p'"
      ]
     },
     "execution_count": 47,
     "metadata": {},
     "output_type": "execute_result"
    }
   ],
   "source": [
    "first.intersection(second).pop()"
   ]
  },
  {
   "cell_type": "code",
   "execution_count": 44,
   "metadata": {},
   "outputs": [],
   "source": [
    "#define the score based on alphabet\n",
    "letters = string.ascii_lowercase + string.ascii_uppercase\n",
    "scores_list = list(range(1,len(letters)+1,1))\n",
    "scores_lookup = dict(zip(letters, scores_list))"
   ]
  },
  {
   "cell_type": "code",
   "execution_count": 51,
   "metadata": {},
   "outputs": [],
   "source": [
    "def find_score(input_string, scores_lookup):\n",
    "    \"\"\"Get the letter that exists on both sides of the string, then lookup score\"\"\"\n",
    "    \n",
    "    l = int(len(input_string)/2)\n",
    "    first = set(input_string[:l])\n",
    "    second = set(input_string[l:])\n",
    "    letter = first.intersection(second).pop()\n",
    "    score = scores_lookup[letter]\n",
    "    \n",
    "    return score"
   ]
  },
  {
   "cell_type": "code",
   "execution_count": 52,
   "metadata": {},
   "outputs": [],
   "source": [
    "#sum them up\n",
    "f = open('Day3Sample.txt', 'r')\n",
    "\n",
    "result_list = []\n",
    "\n",
    "for l in f.readlines():\n",
    "    score = find_score(l, scores_lookup)\n",
    "    result_list.append(score)"
   ]
  },
  {
   "cell_type": "code",
   "execution_count": 53,
   "metadata": {},
   "outputs": [
    {
     "data": {
      "text/plain": [
       "[16, 38, 42, 22, 20, 19]"
      ]
     },
     "execution_count": 53,
     "metadata": {},
     "output_type": "execute_result"
    }
   ],
   "source": [
    "result_list"
   ]
  },
  {
   "cell_type": "code",
   "execution_count": 54,
   "metadata": {},
   "outputs": [
    {
     "data": {
      "text/plain": [
       "157"
      ]
     },
     "execution_count": 54,
     "metadata": {},
     "output_type": "execute_result"
    }
   ],
   "source": [
    "sum(result_list)"
   ]
  },
  {
   "cell_type": "code",
   "execution_count": 56,
   "metadata": {},
   "outputs": [],
   "source": [
    "f = open('Day3Input.txt', 'r')\n",
    "\n",
    "result_list = []\n",
    "\n",
    "for l in f.readlines():\n",
    "    score = find_score(l, scores_lookup)\n",
    "    result_list.append(score)"
   ]
  },
  {
   "cell_type": "code",
   "execution_count": 57,
   "metadata": {},
   "outputs": [
    {
     "data": {
      "text/plain": [
       "7785"
      ]
     },
     "execution_count": 57,
     "metadata": {},
     "output_type": "execute_result"
    }
   ],
   "source": [
    "sum(result_list)"
   ]
  },
  {
   "cell_type": "code",
   "execution_count": 58,
   "metadata": {},
   "outputs": [],
   "source": [
    "#part 2\n",
    "#find the intersection between sequential groups of three\n",
    "#get the score of these letters & sum"
   ]
  },
  {
   "cell_type": "code",
   "execution_count": 64,
   "metadata": {},
   "outputs": [],
   "source": [
    "rucksack_list = []\n",
    "\n",
    "f = open('Day3Sample.txt', 'r') \n",
    "for l in f.readlines():\n",
    "    l = l.strip()\n",
    "    rucksack_list.append(l)\n"
   ]
  },
  {
   "cell_type": "code",
   "execution_count": 65,
   "metadata": {},
   "outputs": [
    {
     "data": {
      "text/plain": [
       "['vJrwpWtwJgWrhcsFMMfFFhFp',\n",
       " 'jqHRNqRjqzjGDLGLrsFMfFZSrLrFZsSL',\n",
       " 'PmmdzqPrVvPwwTWBwg',\n",
       " 'wMqvLMZHhHMvwLHjbvcjnnSBnvTQFn',\n",
       " 'ttgJtRGJQctTZtZT',\n",
       " 'CrZsJsPPZsGzwwsLwLmpwMDw']"
      ]
     },
     "execution_count": 65,
     "metadata": {},
     "output_type": "execute_result"
    }
   ],
   "source": [
    "rucksack_list"
   ]
  },
  {
   "cell_type": "code",
   "execution_count": 70,
   "metadata": {},
   "outputs": [],
   "source": [
    "i = 0\n",
    "badges = []\n",
    "\n",
    "while i < len(rucksack_list):\n",
    "    common = set(rucksack_list[i]).intersection(set(rucksack_list[i+1])).intersection(set(rucksack_list[i+2]))\n",
    "    badges.append(common.pop())\n",
    "    i += 3\n",
    "    \n",
    "    "
   ]
  },
  {
   "cell_type": "code",
   "execution_count": null,
   "metadata": {},
   "outputs": [],
   "source": []
  },
  {
   "cell_type": "code",
   "execution_count": 77,
   "metadata": {},
   "outputs": [
    {
     "data": {
      "text/plain": [
       "70"
      ]
     },
     "execution_count": 77,
     "metadata": {},
     "output_type": "execute_result"
    }
   ],
   "source": [
    "badge_results = []\n",
    "\n",
    "for l in badges:\n",
    "    score = scores_lookup[l]\n",
    "    badge_results.append(score)\n",
    "    \n",
    "sum(badge_results)"
   ]
  },
  {
   "cell_type": "code",
   "execution_count": 78,
   "metadata": {},
   "outputs": [],
   "source": [
    "#part 2 with actual code\n",
    "\n",
    "rucksack_list = []\n",
    "\n",
    "f = open('Day3Input.txt', 'r') \n",
    "for l in f.readlines():\n",
    "    l = l.strip()\n",
    "    rucksack_list.append(l)"
   ]
  },
  {
   "cell_type": "code",
   "execution_count": 79,
   "metadata": {},
   "outputs": [
    {
     "data": {
      "text/plain": [
       "2633"
      ]
     },
     "execution_count": 79,
     "metadata": {},
     "output_type": "execute_result"
    }
   ],
   "source": [
    "i = 0\n",
    "badges = []\n",
    "\n",
    "while i < len(rucksack_list):\n",
    "    common = set(rucksack_list[i]).intersection(set(rucksack_list[i+1])).intersection(set(rucksack_list[i+2]))\n",
    "    badges.append(common.pop())\n",
    "    i += 3\n",
    "    \n",
    "badge_results = []\n",
    "\n",
    "for l in badges:\n",
    "    score = scores_lookup[l]\n",
    "    badge_results.append(score)\n",
    "    \n",
    "sum(badge_results)"
   ]
  },
  {
   "cell_type": "code",
   "execution_count": null,
   "metadata": {},
   "outputs": [],
   "source": []
  }
 ],
 "metadata": {
  "kernelspec": {
   "display_name": "Python 3",
   "language": "python",
   "name": "python3"
  },
  "language_info": {
   "codemirror_mode": {
    "name": "ipython",
    "version": 3
   },
   "file_extension": ".py",
   "mimetype": "text/x-python",
   "name": "python",
   "nbconvert_exporter": "python",
   "pygments_lexer": "ipython3",
   "version": "3.7.3"
  }
 },
 "nbformat": 4,
 "nbformat_minor": 4
}
