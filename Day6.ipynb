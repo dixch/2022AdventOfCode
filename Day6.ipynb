{
 "cells": [
  {
   "cell_type": "code",
   "execution_count": 2,
   "metadata": {},
   "outputs": [],
   "source": [
    "test1 = 'mjqjpqmgbljsphdztnvjfqwrcgsmlb' #m is the 7th char\n",
    "test2 = 'bvwbjplbgvbhsrlpgdmjqwftvncz'\n",
    "test3 = 'nppdvjthqldpwncqszvftbrmjlhg'\n",
    "test4 = 'nznrnfrfntjfmvfwmzdfjlvtqnbhcprsg'\n",
    "test5 = 'zcfzfwzzqfrljwzlrfnpqdbhtmscgvjw'\n",
    "\n",
    "ans1 = 7\n",
    "ans2 = 5\n",
    "ans3 = 6\n",
    "ans4 = 10\n",
    "ans5 = 11"
   ]
  },
  {
   "cell_type": "code",
   "execution_count": 13,
   "metadata": {},
   "outputs": [],
   "source": [
    "## Find the start of packet marker: e.g. the first time 4 char are all different\n",
    "\n",
    "\n",
    "def sliding_check(input_string):\n",
    "    \n",
    "    n = 0\n",
    "    \n",
    "    for n in list(range(0,len(input_string)-3)):\n",
    "        chars = input_string[n:n+4]\n",
    "        if len(set(chars)) == len(chars):\n",
    "              return n + 4\n",
    "\n",
    "\n",
    "assert(sliding_check(test1) == ans1)\n",
    "assert(sliding_check(test2) == ans2)\n",
    "assert(sliding_check(test3) == ans3)\n",
    "assert(sliding_check(test4) == ans4)\n",
    "assert(sliding_check(test5) == ans5)"
   ]
  },
  {
   "cell_type": "code",
   "execution_count": 18,
   "metadata": {},
   "outputs": [],
   "source": [
    "f = open('Day6input.txt')\n",
    "input_string = f.read().strip()"
   ]
  },
  {
   "cell_type": "code",
   "execution_count": 19,
   "metadata": {},
   "outputs": [
    {
     "data": {
      "text/plain": [
       "1647"
      ]
     },
     "execution_count": 19,
     "metadata": {},
     "output_type": "execute_result"
    }
   ],
   "source": [
    "sliding_check(input_string)"
   ]
  },
  {
   "cell_type": "code",
   "execution_count": 20,
   "metadata": {},
   "outputs": [],
   "source": [
    "## Abstract to work for different wondow sizes\n",
    "\n",
    "def sliding_check(input_string, window_size):\n",
    "    \n",
    "    n = 0\n",
    "    \n",
    "    for n in list(range(0,len(input_string)-(window_size-1))):\n",
    "        chars = input_string[n:n+window_size]\n",
    "        if len(set(chars)) == len(chars):\n",
    "              return n + window_size\n",
    "            \n",
    "\n",
    "            \n",
    "#Check it still works for original input\n",
    "assert(sliding_check(test1, 4) == ans1)\n",
    "assert(sliding_check(test2, 4) == ans2)\n",
    "assert(sliding_check(test3, 4) == ans3)\n",
    "assert(sliding_check(test4, 4) == ans4)\n",
    "assert(sliding_check(test5, 4) == ans5)\n",
    "    \n",
    "#Test for part 2\n",
    "assert(sliding_check(test1, 14) == 19)\n",
    "assert(sliding_check(test2, 14) == 23)\n",
    "assert(sliding_check(test3, 14) == 23)\n",
    "assert(sliding_check(test4, 14) == 29)\n",
    "assert(sliding_check(test5, 14) == 26)"
   ]
  },
  {
   "cell_type": "code",
   "execution_count": 21,
   "metadata": {},
   "outputs": [
    {
     "data": {
      "text/plain": [
       "2447"
      ]
     },
     "execution_count": 21,
     "metadata": {},
     "output_type": "execute_result"
    }
   ],
   "source": [
    "sliding_check(input_string, 14)"
   ]
  },
  {
   "cell_type": "code",
   "execution_count": null,
   "metadata": {},
   "outputs": [],
   "source": []
  }
 ],
 "metadata": {
  "kernelspec": {
   "display_name": "Python 3",
   "language": "python",
   "name": "python3"
  },
  "language_info": {
   "codemirror_mode": {
    "name": "ipython",
    "version": 3
   },
   "file_extension": ".py",
   "mimetype": "text/x-python",
   "name": "python",
   "nbconvert_exporter": "python",
   "pygments_lexer": "ipython3",
   "version": "3.7.3"
  }
 },
 "nbformat": 4,
 "nbformat_minor": 4
}
