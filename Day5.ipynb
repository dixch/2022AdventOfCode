{
 "cells": [
  {
   "cell_type": "code",
   "execution_count": 13,
   "metadata": {},
   "outputs": [],
   "source": [
    "def file_to_list(filename):\n",
    "    \n",
    "    f = open(filename, 'r')\n",
    "    input_lines = []\n",
    "    for l in f.readlines():\n",
    "        input_lines.append(l)\n",
    "        \n",
    "    return input_lines"
   ]
  },
  {
   "cell_type": "code",
   "execution_count": 14,
   "metadata": {},
   "outputs": [],
   "source": [
    "filename = 'Day5Sample.txt'\n",
    "input_lines = file_to_list(filename)"
   ]
  },
  {
   "cell_type": "code",
   "execution_count": 3,
   "metadata": {},
   "outputs": [],
   "source": [
    "#iterate over the string to get a list of values, including spaces\n",
    "#Use this to rebuild the input matrix into a df. That way we can have col numbers to reference with instructions\n",
    "\n",
    "#input_string = input_lines[0]\n",
    "\n",
    "def simplify_row(input_string):\n",
    "    \"\"\"Chnges the row pattern to simple characters\n",
    "    Example: '    [D]    \\n' -> [' ', 'D', ' ']\"\"\"\n",
    "    row = []\n",
    "    n = 1\n",
    "\n",
    "    while n < len(input_string):\n",
    "        row.append(input_string[n])\n",
    "        n+=4\n",
    "\n",
    "    return row\n",
    "\n",
    "\n",
    "assert(simplify_row('    [D]    \\n') == [' ', 'D', ' '])\n",
    "assert(simplify_row('[T]     [N] [N] [N] [D] [J] [G] [N]\\n') == ['T', ' ', 'N', 'N', 'N', 'D', 'J', 'G', 'N'])"
   ]
  },
  {
   "cell_type": "code",
   "execution_count": 4,
   "metadata": {},
   "outputs": [],
   "source": [
    "def convert_matrix(lines):\n",
    "\n",
    "    all_rows = []\n",
    "    for l in lines:\n",
    "        if l == '\\n':\n",
    "            return all_rows\n",
    "        else:\n",
    "            all_rows.append(simplify_row(l))"
   ]
  },
  {
   "cell_type": "code",
   "execution_count": 5,
   "metadata": {},
   "outputs": [],
   "source": [
    "matrix = convert_matrix(input_lines)\n",
    "matrix.reverse()\n",
    "matrix"
   ]
  },
  {
   "cell_type": "code",
   "execution_count": 6,
   "metadata": {},
   "outputs": [],
   "source": [
    "\n",
    "def transpose_matrix(matrix):\n",
    "    \"\"\"flips the list of lists so the inner list represents columns instead of rows\"\"\"\n",
    "    \n",
    "    new_cols = []\n",
    "\n",
    "    for n in range(0,len(matrix[1])):\n",
    "        col = []\n",
    "        for c in range(1, len(matrix)): #ignore the first list, which is col names. Take a value from each other row\n",
    "            if matrix[c][n] != ' ':\n",
    "                col.append(matrix[c][n])\n",
    "        new_cols.append(col)\n",
    "\n",
    "    #now we have a list of columns\n",
    "    return new_cols\n",
    "\n",
    "new_cols = transpose_matrix(matrix)"
   ]
  },
  {
   "cell_type": "code",
   "execution_count": null,
   "metadata": {},
   "outputs": [],
   "source": []
  },
  {
   "cell_type": "code",
   "execution_count": 7,
   "metadata": {},
   "outputs": [],
   "source": [
    "#parse instructions from file\n",
    "filename = 'Day5Sample.txt'\n",
    "\n",
    "def read_instructions(filename):\n",
    "    f = open(filename, 'r')\n",
    "\n",
    "    raw_instructions = []\n",
    "    for l in f.readlines():\n",
    "        if l[0] == 'm':\n",
    "            raw_instructions.append(l.strip())\n",
    "            \n",
    "    return raw_instructions\n",
    "\n",
    "raw_instructions = read_instructions(filename)"
   ]
  },
  {
   "cell_type": "markdown",
   "metadata": {},
   "source": [
    "#Try out instructions on matrix\n",
    "\n",
    "test_instruction = raw_instructions[0].split(' ')\n"
   ]
  },
  {
   "cell_type": "code",
   "execution_count": 9,
   "metadata": {},
   "outputs": [],
   "source": [
    "def action_instruction(new_cols, instruction):\n",
    "    \n",
    "    instruction = instruction.split(' ')\n",
    "    move_num = int(instruction[1])\n",
    "    from_col = int(instruction[3])-1 #subtract 1 to allow list index to start at 0\n",
    "    to_col = int(instruction[5])-1\n",
    "\n",
    "    #capture the moving box(es)\n",
    "    to_move = new_cols[from_col][-move_num:]\n",
    "    to_move.reverse()\n",
    "\n",
    "    # the donor col is reduced\n",
    "    new_cols[from_col] =  new_cols[from_col][:-move_num]\n",
    "    \n",
    "    #put the boxes in thier new home\n",
    "    new_cols[to_col] = new_cols[to_col] + to_move\n",
    "\n",
    "    return new_cols\n",
    "\n"
   ]
  },
  {
   "cell_type": "code",
   "execution_count": 10,
   "metadata": {},
   "outputs": [],
   "source": [
    "# run all the instructions\n",
    "\n",
    "for i in raw_instructions:\n",
    "    action_instruction(new_cols, i)"
   ]
  },
  {
   "cell_type": "code",
   "execution_count": 11,
   "metadata": {},
   "outputs": [
    {
     "data": {
      "text/plain": [
       "[['C'], ['M'], ['P', 'D', 'N', 'Z']]"
      ]
     },
     "execution_count": 11,
     "metadata": {},
     "output_type": "execute_result"
    }
   ],
   "source": [
    "new_cols"
   ]
  },
  {
   "cell_type": "code",
   "execution_count": 16,
   "metadata": {},
   "outputs": [],
   "source": [
    "def get_top_box(new_cols):\n",
    "    \"\"\"input list of list, get the value representing the top box for each stack\n",
    "    example: [['C'], ['M'], ['P', 'D', 'N', 'Z']] -> 'CMZ' \"\"\"\n",
    "    \n",
    "    out_string = ''\n",
    "    \n",
    "    for l in new_cols:\n",
    "        out_string = out_string + (l[-1])\n",
    "    \n",
    "    return out_string\n",
    "\n",
    "\n",
    "assert(get_top_box([['C'], ['M'], ['P', 'D', 'N', 'Z']]) == 'CMZ')"
   ]
  },
  {
   "cell_type": "code",
   "execution_count": 18,
   "metadata": {},
   "outputs": [],
   "source": [
    "# Take the real file and go all the way through\n",
    "\n",
    "\n",
    "def do_part_one(filename):\n",
    "    input_lines = file_to_list(filename)\n",
    "    matrix = convert_matrix(input_lines)\n",
    "    matrix.reverse()\n",
    "    new_cols = transpose_matrix(matrix)\n",
    "\n",
    "    raw_instructions = read_instructions(filename)\n",
    "    for i in raw_instructions:\n",
    "        action_instruction(new_cols, i)\n",
    "    \n",
    "    return get_top_box(new_cols)\n",
    "\n",
    "filename = 'Day5Sample.txt'\n",
    "assert(do_part_one(filename)=='CMZ')"
   ]
  },
  {
   "cell_type": "code",
   "execution_count": 19,
   "metadata": {},
   "outputs": [
    {
     "data": {
      "text/plain": [
       "'TWSGQHNHL'"
      ]
     },
     "execution_count": 19,
     "metadata": {},
     "output_type": "execute_result"
    }
   ],
   "source": [
    "filename = 'Day5Input.txt'\n",
    "do_part_one(filename)"
   ]
  },
  {
   "cell_type": "code",
   "execution_count": 20,
   "metadata": {},
   "outputs": [],
   "source": [
    "## Part 2: no longer have to move 1 box at a time\n",
    "\n",
    "def action_instruction_multibox(new_cols, instruction):\n",
    "    \n",
    "    instruction = instruction.split(' ')\n",
    "    move_num = int(instruction[1])\n",
    "    from_col = int(instruction[3])-1 #subtract 1 to allow list index to start at 0\n",
    "    to_col = int(instruction[5])-1\n",
    "\n",
    "    #capture the moving box(es)\n",
    "    to_move = new_cols[from_col][-move_num:]\n",
    "    ##to_move.reverse() No longer need to reverse\n",
    "\n",
    "    # the donor col is reduced\n",
    "    new_cols[from_col] =  new_cols[from_col][:-move_num]\n",
    "    \n",
    "    #put the boxes in thier new home\n",
    "    new_cols[to_col] = new_cols[to_col] + to_move\n",
    "\n",
    "    return new_cols"
   ]
  },
  {
   "cell_type": "code",
   "execution_count": 22,
   "metadata": {},
   "outputs": [],
   "source": [
    "def do_part_two(filename):\n",
    "    input_lines = file_to_list(filename)\n",
    "    matrix = convert_matrix(input_lines)\n",
    "    matrix.reverse()\n",
    "    new_cols = transpose_matrix(matrix)\n",
    "\n",
    "    raw_instructions = read_instructions(filename)\n",
    "    for i in raw_instructions:\n",
    "        action_instruction_multibox(new_cols, i)\n",
    "    \n",
    "    return get_top_box(new_cols)\n",
    "\n",
    "filename = 'Day5Sample.txt'\n",
    "assert(do_part_two(filename)=='MCD')"
   ]
  },
  {
   "cell_type": "code",
   "execution_count": 23,
   "metadata": {},
   "outputs": [
    {
     "data": {
      "text/plain": [
       "'JNRSCDWPP'"
      ]
     },
     "execution_count": 23,
     "metadata": {},
     "output_type": "execute_result"
    }
   ],
   "source": [
    "do_part_two(filename = 'Day5Input.txt')"
   ]
  },
  {
   "cell_type": "code",
   "execution_count": null,
   "metadata": {},
   "outputs": [],
   "source": []
  }
 ],
 "metadata": {
  "kernelspec": {
   "display_name": "Python 3",
   "language": "python",
   "name": "python3"
  },
  "language_info": {
   "codemirror_mode": {
    "name": "ipython",
    "version": 3
   },
   "file_extension": ".py",
   "mimetype": "text/x-python",
   "name": "python",
   "nbconvert_exporter": "python",
   "pygments_lexer": "ipython3",
   "version": "3.7.3"
  }
 },
 "nbformat": 4,
 "nbformat_minor": 4
}
