{
 "cells": [
  {
   "cell_type": "code",
   "execution_count": 1,
   "metadata": {},
   "outputs": [],
   "source": [
    "import re"
   ]
  },
  {
   "cell_type": "code",
   "execution_count": null,
   "metadata": {},
   "outputs": [],
   "source": []
  },
  {
   "cell_type": "code",
   "execution_count": 7,
   "metadata": {},
   "outputs": [],
   "source": [
    "f = open(\"Day1input.txt\", \"r\")\n",
    "##print(f.readlines())"
   ]
  },
  {
   "cell_type": "code",
   "execution_count": 8,
   "metadata": {},
   "outputs": [],
   "source": [
    "test = '2832\\n'\n",
    "test2 = '\\n'\n",
    "\n",
    "def get_num (line):\n",
    "    return [int(s) for s in line.split() if s.isdigit()][0]\n",
    "\n",
    "assert(get_num(test) == 2832)"
   ]
  },
  {
   "cell_type": "code",
   "execution_count": 9,
   "metadata": {},
   "outputs": [],
   "source": [
    "f = open(\"Day1input.txt\", \"r\")\n",
    "\n",
    "elves_totals = []\n",
    "current_sum = 0\n",
    "\n",
    "for n in f.readlines():\n",
    "    if n == '\\n':\n",
    "        elves_totals.append(current_sum)\n",
    "        current_sum = 0\n",
    "    else: \n",
    "        value = get_num(n)\n",
    "        current_sum += value\n",
    "elves_totals.append(current_sum)"
   ]
  },
  {
   "cell_type": "code",
   "execution_count": 10,
   "metadata": {},
   "outputs": [
    {
     "data": {
      "text/plain": [
       "[38728,\n",
       " 40386,\n",
       " 55708,\n",
       " 51767,\n",
       " 34296,\n",
       " 41377,\n",
       " 64434,\n",
       " 53503,\n",
       " 40206,\n",
       " 44711,\n",
       " 67622,\n",
       " 53072,\n",
       " 48937,\n",
       " 39592,\n",
       " 36657,\n",
       " 54749,\n",
       " 57900,\n",
       " 54263,\n",
       " 56241,\n",
       " 56879,\n",
       " 60894,\n",
       " 51541,\n",
       " 33698,\n",
       " 45500,\n",
       " 29709,\n",
       " 40205,\n",
       " 29347,\n",
       " 59906,\n",
       " 53734,\n",
       " 59926,\n",
       " 54428,\n",
       " 49427,\n",
       " 27652,\n",
       " 55512,\n",
       " 64093,\n",
       " 50011,\n",
       " 61677,\n",
       " 53370,\n",
       " 45353,\n",
       " 39883,\n",
       " 49659,\n",
       " 50884,\n",
       " 46809,\n",
       " 40617,\n",
       " 46455,\n",
       " 25047,\n",
       " 43712,\n",
       " 53660,\n",
       " 52939,\n",
       " 58693,\n",
       " 47532,\n",
       " 66377,\n",
       " 55123,\n",
       " 26931,\n",
       " 50641,\n",
       " 62059,\n",
       " 52878,\n",
       " 53766,\n",
       " 39423,\n",
       " 42614,\n",
       " 48703,\n",
       " 51644,\n",
       " 51889,\n",
       " 43635,\n",
       " 38122,\n",
       " 51665,\n",
       " 55287,\n",
       " 67492,\n",
       " 50134,\n",
       " 50684,\n",
       " 46902,\n",
       " 47089,\n",
       " 47885,\n",
       " 47293,\n",
       " 50423,\n",
       " 46031,\n",
       " 59136,\n",
       " 43547,\n",
       " 46460,\n",
       " 48929,\n",
       " 42984,\n",
       " 35904,\n",
       " 46989,\n",
       " 54332,\n",
       " 35971,\n",
       " 48863,\n",
       " 62503,\n",
       " 37441,\n",
       " 58097,\n",
       " 45890,\n",
       " 49499,\n",
       " 52148,\n",
       " 51008,\n",
       " 31392,\n",
       " 40451,\n",
       " 57224,\n",
       " 29877,\n",
       " 53248,\n",
       " 34603,\n",
       " 43177,\n",
       " 48384,\n",
       " 65135,\n",
       " 48135,\n",
       " 60551,\n",
       " 39371,\n",
       " 42198,\n",
       " 45491,\n",
       " 60853,\n",
       " 34390,\n",
       " 52245,\n",
       " 55443,\n",
       " 47433,\n",
       " 44547,\n",
       " 40228,\n",
       " 34287,\n",
       " 32647,\n",
       " 54775,\n",
       " 56859,\n",
       " 47712,\n",
       " 44667,\n",
       " 44800,\n",
       " 52095,\n",
       " 35210,\n",
       " 51090,\n",
       " 26879,\n",
       " 53184,\n",
       " 18661,\n",
       " 55528,\n",
       " 57146,\n",
       " 46217,\n",
       " 44182,\n",
       " 51964,\n",
       " 49193,\n",
       " 52332,\n",
       " 48348,\n",
       " 46453,\n",
       " 17646,\n",
       " 40548,\n",
       " 28724,\n",
       " 40907,\n",
       " 48220,\n",
       " 55443,\n",
       " 48728,\n",
       " 37282,\n",
       " 47697,\n",
       " 49351,\n",
       " 54579,\n",
       " 54216,\n",
       " 39212,\n",
       " 29098,\n",
       " 40562,\n",
       " 49197,\n",
       " 49771,\n",
       " 35003,\n",
       " 31308,\n",
       " 45560,\n",
       " 49987,\n",
       " 54104,\n",
       " 48797,\n",
       " 64086,\n",
       " 5607,\n",
       " 44355,\n",
       " 28744,\n",
       " 14546,\n",
       " 51922,\n",
       " 54280,\n",
       " 47487,\n",
       " 39985,\n",
       " 50038,\n",
       " 41147,\n",
       " 36706,\n",
       " 53260,\n",
       " 49126,\n",
       " 44689,\n",
       " 52928,\n",
       " 48260,\n",
       " 42859,\n",
       " 33848,\n",
       " 53893,\n",
       " 44329,\n",
       " 54154,\n",
       " 49603,\n",
       " 46044,\n",
       " 48584,\n",
       " 62613,\n",
       " 13975,\n",
       " 39103,\n",
       " 60916,\n",
       " 33543,\n",
       " 48830,\n",
       " 42302,\n",
       " 38858,\n",
       " 53686,\n",
       " 32522,\n",
       " 57355,\n",
       " 46724,\n",
       " 51282,\n",
       " 30259,\n",
       " 49707,\n",
       " 35606,\n",
       " 54692,\n",
       " 36692,\n",
       " 47207,\n",
       " 34498,\n",
       " 44324,\n",
       " 51256,\n",
       " 37298,\n",
       " 47710,\n",
       " 52555,\n",
       " 46537,\n",
       " 45044,\n",
       " 43577,\n",
       " 30578,\n",
       " 62324,\n",
       " 39433,\n",
       " 57393,\n",
       " 57536,\n",
       " 48363,\n",
       " 47671,\n",
       " 51150,\n",
       " 51600,\n",
       " 58197,\n",
       " 41507,\n",
       " 38343,\n",
       " 38985,\n",
       " 45574,\n",
       " 40546,\n",
       " 47743,\n",
       " 44034,\n",
       " 47246,\n",
       " 37802,\n",
       " 51304,\n",
       " 55777,\n",
       " 49532,\n",
       " 52674,\n",
       " 35421,\n",
       " 42255,\n",
       " 47688,\n",
       " 55621,\n",
       " 40338,\n",
       " 40097,\n",
       " 46739,\n",
       " 52473,\n",
       " 48119,\n",
       " 45912,\n",
       " 49409,\n",
       " 42833,\n",
       " 41020]"
      ]
     },
     "execution_count": 10,
     "metadata": {},
     "output_type": "execute_result"
    }
   ],
   "source": [
    "elves_totals"
   ]
  },
  {
   "cell_type": "code",
   "execution_count": 11,
   "metadata": {},
   "outputs": [
    {
     "data": {
      "text/plain": [
       "67622"
      ]
     },
     "execution_count": 11,
     "metadata": {},
     "output_type": "execute_result"
    }
   ],
   "source": [
    "max(elves_totals)"
   ]
  },
  {
   "cell_type": "code",
   "execution_count": 12,
   "metadata": {},
   "outputs": [],
   "source": [
    "## wrong guesses: 11534225"
   ]
  },
  {
   "cell_type": "code",
   "execution_count": 13,
   "metadata": {},
   "outputs": [
    {
     "name": "stdout",
     "output_type": "stream",
     "text": [
      "None\n"
     ]
    }
   ],
   "source": [
    "## Part 2: Find the top 3 and total them\n",
    "\n",
    "print(elves_totals.sort(reverse=True))"
   ]
  },
  {
   "cell_type": "code",
   "execution_count": 14,
   "metadata": {},
   "outputs": [
    {
     "data": {
      "text/plain": [
       "[67622, 67492, 66377]"
      ]
     },
     "execution_count": 14,
     "metadata": {},
     "output_type": "execute_result"
    }
   ],
   "source": [
    "elves_totals[0:3]"
   ]
  },
  {
   "cell_type": "code",
   "execution_count": 15,
   "metadata": {},
   "outputs": [
    {
     "data": {
      "text/plain": [
       "201491"
      ]
     },
     "execution_count": 15,
     "metadata": {},
     "output_type": "execute_result"
    }
   ],
   "source": [
    "sum(elves_totals[0:3])"
   ]
  },
  {
   "cell_type": "code",
   "execution_count": null,
   "metadata": {},
   "outputs": [],
   "source": []
  }
 ],
 "metadata": {
  "kernelspec": {
   "display_name": "Python 3",
   "language": "python",
   "name": "python3"
  },
  "language_info": {
   "codemirror_mode": {
    "name": "ipython",
    "version": 3
   },
   "file_extension": ".py",
   "mimetype": "text/x-python",
   "name": "python",
   "nbconvert_exporter": "python",
   "pygments_lexer": "ipython3",
   "version": "3.7.3"
  }
 },
 "nbformat": 4,
 "nbformat_minor": 4
}
