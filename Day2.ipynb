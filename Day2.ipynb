{
 "cells": [
  {
   "cell_type": "markdown",
   "metadata": {},
   "source": [
    "The score for a single round is the score for the shape you selected \n",
    "(1 for Rock, 2 for Paper, and 3 for Scissors) \n",
    "\n",
    "plus the score for the outcome of the round \n",
    "(0 if you lost, 3 if the round was a draw, and 6 if you won)\n",
    "\n",
    "This strategy guide predicts and recommends the following:\n",
    "\n",
    "    In the first round, your opponent will choose Rock (A), and you should choose Paper (Y). This ends in a win for you with a score of 8 (2 because you chose Paper + 6 because you won).\n",
    "    In the second round, your opponent will choose Paper (B), and you should choose Rock (X). This ends in a loss for you with a score of 1 (1 + 0).\n",
    "    The third round is a draw with both players choosing Scissors, giving you a score of 3 + 3 = 6.\n",
    "\n",
    "In this example, if you were to follow the strategy guide, you would get a total score of 15 (8 + 1 + 6).\n",
    "\n"
   ]
  },
  {
   "cell_type": "code",
   "execution_count": 3,
   "metadata": {},
   "outputs": [],
   "source": [
    "import pandas as pd"
   ]
  },
  {
   "cell_type": "code",
   "execution_count": 30,
   "metadata": {},
   "outputs": [],
   "source": [
    "#to quantify your choice score, and the score for winning\n",
    "# A=rock=1=X, B=paper=2=Y, C=scissors=3=Z\n",
    "# 0, 3, 6 loss draw win\n",
    "\n",
    "shape_score_lookup = {'X':1, 'Y':2, 'Z':3}\n",
    "\n",
    "#Define winning/losing functions\n",
    "\"\"\"\n",
    "rock-rock = draw 'AX':3\n",
    "paper-paper = draw 'BY':3\n",
    "scissor-scissor = draw 'CZ':3\n",
    "\n",
    "rock-paper = win 'AY':6\n",
    "paper-rock = loss 'BX':0\n",
    "scissors-paper = loss 'CY':0\n",
    "paper-scissors = win 'BZ':6\n",
    "scissors-rock = win 'CX':6\n",
    "rock-scissors = loss 'AZ':0\n",
    "\"\"\"\n",
    "\n",
    "\n",
    "result_lookup = {'AX':3, 'BY':3, 'CZ':3, 'AY':6, 'BX':0, 'CY':0, 'BZ':6, 'CX':6, 'AZ':0}"
   ]
  },
  {
   "cell_type": "code",
   "execution_count": 6,
   "metadata": {},
   "outputs": [
    {
     "data": {
      "text/plain": [
       "['A Y\\n', 'B X\\n', 'C Z\\n']"
      ]
     },
     "execution_count": 6,
     "metadata": {},
     "output_type": "execute_result"
    }
   ],
   "source": [
    "f = open(\"Day2sample.txt\", \"r\")\n",
    "f.readlines()"
   ]
  },
  {
   "cell_type": "code",
   "execution_count": 31,
   "metadata": {},
   "outputs": [],
   "source": [
    "df = pd.read_csv(\"Day2sample.txt\", header=None, delim_whitespace='/n')"
   ]
  },
  {
   "cell_type": "code",
   "execution_count": 32,
   "metadata": {},
   "outputs": [
    {
     "data": {
      "text/plain": [
       "2"
      ]
     },
     "execution_count": 32,
     "metadata": {},
     "output_type": "execute_result"
    }
   ],
   "source": [
    "shape_score_lookup['Y']"
   ]
  },
  {
   "cell_type": "code",
   "execution_count": 33,
   "metadata": {},
   "outputs": [],
   "source": [
    "df['shape_score'] = [shape_score_lookup[x] for x in df[1]]"
   ]
  },
  {
   "cell_type": "code",
   "execution_count": 34,
   "metadata": {},
   "outputs": [
    {
     "data": {
      "text/html": [
       "<div>\n",
       "<style scoped>\n",
       "    .dataframe tbody tr th:only-of-type {\n",
       "        vertical-align: middle;\n",
       "    }\n",
       "\n",
       "    .dataframe tbody tr th {\n",
       "        vertical-align: top;\n",
       "    }\n",
       "\n",
       "    .dataframe thead th {\n",
       "        text-align: right;\n",
       "    }\n",
       "</style>\n",
       "<table border=\"1\" class=\"dataframe\">\n",
       "  <thead>\n",
       "    <tr style=\"text-align: right;\">\n",
       "      <th></th>\n",
       "      <th>0</th>\n",
       "      <th>1</th>\n",
       "      <th>shape_score</th>\n",
       "    </tr>\n",
       "  </thead>\n",
       "  <tbody>\n",
       "    <tr>\n",
       "      <th>0</th>\n",
       "      <td>A</td>\n",
       "      <td>Y</td>\n",
       "      <td>2</td>\n",
       "    </tr>\n",
       "    <tr>\n",
       "      <th>1</th>\n",
       "      <td>B</td>\n",
       "      <td>X</td>\n",
       "      <td>1</td>\n",
       "    </tr>\n",
       "    <tr>\n",
       "      <th>2</th>\n",
       "      <td>C</td>\n",
       "      <td>Z</td>\n",
       "      <td>3</td>\n",
       "    </tr>\n",
       "  </tbody>\n",
       "</table>\n",
       "</div>"
      ],
      "text/plain": [
       "   0  1  shape_score\n",
       "0  A  Y            2\n",
       "1  B  X            1\n",
       "2  C  Z            3"
      ]
     },
     "execution_count": 34,
     "metadata": {},
     "output_type": "execute_result"
    }
   ],
   "source": [
    "df"
   ]
  },
  {
   "cell_type": "code",
   "execution_count": 35,
   "metadata": {},
   "outputs": [],
   "source": [
    "df['result_score'] = [result_lookup[x] for x in df[0] + df[1]]"
   ]
  },
  {
   "cell_type": "code",
   "execution_count": 36,
   "metadata": {},
   "outputs": [
    {
     "data": {
      "text/html": [
       "<div>\n",
       "<style scoped>\n",
       "    .dataframe tbody tr th:only-of-type {\n",
       "        vertical-align: middle;\n",
       "    }\n",
       "\n",
       "    .dataframe tbody tr th {\n",
       "        vertical-align: top;\n",
       "    }\n",
       "\n",
       "    .dataframe thead th {\n",
       "        text-align: right;\n",
       "    }\n",
       "</style>\n",
       "<table border=\"1\" class=\"dataframe\">\n",
       "  <thead>\n",
       "    <tr style=\"text-align: right;\">\n",
       "      <th></th>\n",
       "      <th>0</th>\n",
       "      <th>1</th>\n",
       "      <th>shape_score</th>\n",
       "      <th>result_score</th>\n",
       "    </tr>\n",
       "  </thead>\n",
       "  <tbody>\n",
       "    <tr>\n",
       "      <th>0</th>\n",
       "      <td>A</td>\n",
       "      <td>Y</td>\n",
       "      <td>2</td>\n",
       "      <td>6</td>\n",
       "    </tr>\n",
       "    <tr>\n",
       "      <th>1</th>\n",
       "      <td>B</td>\n",
       "      <td>X</td>\n",
       "      <td>1</td>\n",
       "      <td>0</td>\n",
       "    </tr>\n",
       "    <tr>\n",
       "      <th>2</th>\n",
       "      <td>C</td>\n",
       "      <td>Z</td>\n",
       "      <td>3</td>\n",
       "      <td>3</td>\n",
       "    </tr>\n",
       "  </tbody>\n",
       "</table>\n",
       "</div>"
      ],
      "text/plain": [
       "   0  1  shape_score  result_score\n",
       "0  A  Y            2             6\n",
       "1  B  X            1             0\n",
       "2  C  Z            3             3"
      ]
     },
     "execution_count": 36,
     "metadata": {},
     "output_type": "execute_result"
    }
   ],
   "source": [
    "df"
   ]
  },
  {
   "cell_type": "code",
   "execution_count": 37,
   "metadata": {},
   "outputs": [],
   "source": [
    "df['total'] = df.shape_score + df.result_score"
   ]
  },
  {
   "cell_type": "code",
   "execution_count": 38,
   "metadata": {},
   "outputs": [
    {
     "data": {
      "text/html": [
       "<div>\n",
       "<style scoped>\n",
       "    .dataframe tbody tr th:only-of-type {\n",
       "        vertical-align: middle;\n",
       "    }\n",
       "\n",
       "    .dataframe tbody tr th {\n",
       "        vertical-align: top;\n",
       "    }\n",
       "\n",
       "    .dataframe thead th {\n",
       "        text-align: right;\n",
       "    }\n",
       "</style>\n",
       "<table border=\"1\" class=\"dataframe\">\n",
       "  <thead>\n",
       "    <tr style=\"text-align: right;\">\n",
       "      <th></th>\n",
       "      <th>0</th>\n",
       "      <th>1</th>\n",
       "      <th>shape_score</th>\n",
       "      <th>result_score</th>\n",
       "      <th>total</th>\n",
       "    </tr>\n",
       "  </thead>\n",
       "  <tbody>\n",
       "    <tr>\n",
       "      <th>0</th>\n",
       "      <td>A</td>\n",
       "      <td>Y</td>\n",
       "      <td>2</td>\n",
       "      <td>6</td>\n",
       "      <td>8</td>\n",
       "    </tr>\n",
       "    <tr>\n",
       "      <th>1</th>\n",
       "      <td>B</td>\n",
       "      <td>X</td>\n",
       "      <td>1</td>\n",
       "      <td>0</td>\n",
       "      <td>1</td>\n",
       "    </tr>\n",
       "    <tr>\n",
       "      <th>2</th>\n",
       "      <td>C</td>\n",
       "      <td>Z</td>\n",
       "      <td>3</td>\n",
       "      <td>3</td>\n",
       "      <td>6</td>\n",
       "    </tr>\n",
       "  </tbody>\n",
       "</table>\n",
       "</div>"
      ],
      "text/plain": [
       "   0  1  shape_score  result_score  total\n",
       "0  A  Y            2             6      8\n",
       "1  B  X            1             0      1\n",
       "2  C  Z            3             3      6"
      ]
     },
     "execution_count": 38,
     "metadata": {},
     "output_type": "execute_result"
    }
   ],
   "source": [
    "df"
   ]
  },
  {
   "cell_type": "code",
   "execution_count": 39,
   "metadata": {},
   "outputs": [
    {
     "data": {
      "text/plain": [
       "15"
      ]
     },
     "execution_count": 39,
     "metadata": {},
     "output_type": "execute_result"
    }
   ],
   "source": [
    "sum(df.total)"
   ]
  },
  {
   "cell_type": "code",
   "execution_count": 40,
   "metadata": {},
   "outputs": [
    {
     "data": {
      "text/plain": [
       "10816"
      ]
     },
     "execution_count": 40,
     "metadata": {},
     "output_type": "execute_result"
    }
   ],
   "source": [
    "## run on actual input\n",
    "\n",
    "df = pd.read_csv(\"Day2input.txt\", header=None, delim_whitespace='/n')\n",
    "df['shape_score'] = [shape_score_lookup[x] for x in df[1]]\n",
    "df['result_score'] = [result_lookup[x] for x in df[0] + df[1]]\n",
    "df['total'] = df.shape_score + df.result_score\n",
    "\n",
    "sum(df.total)"
   ]
  },
  {
   "cell_type": "markdown",
   "metadata": {},
   "source": [
    "Part 2:\n",
    "    \"Anyway, the second column says how the round needs to end: X means you need to lose, Y means you need to end the round in a draw, and Z means you need to win. Good luck!\"\n",
    "\n",
    "The total score is still calculated in the same way, but now you need to figure out what shape to choose so the round ends as indicated. The example above now goes like this:\n",
    "\n",
    "    In the first round, your opponent will choose Rock (A), and you need the round to end in a draw (Y), so you also choose Rock. This gives you a score of 1 + 3 = 4.\n",
    "    In the second round, your opponent will choose Paper (B), and you choose Rock so you lose (X) with a score of 1 + 0 = 1.\n",
    "    In the third round, you will defeat your opponent's Scissors with Rock for a score of 1 + 6 = 7.\n",
    "\n",
    "Now that you're correctly decrypting the ultra top secret strategy guide, you would get a total score of 12."
   ]
  },
  {
   "cell_type": "code",
   "execution_count": 112,
   "metadata": {},
   "outputs": [],
   "source": [
    "thier_move_lookup = {'A':'rock', 'B':'paper', 'C':'scissors'}\n",
    "result_lookup = {'X':'loss', 'Y':'draw', 'Z':'win'}\n",
    "\n",
    "#Use the existing result lookup table, but \n",
    "#Define winning/losing functions\n",
    "\n",
    "part2_result = {\n",
    "('rock', 'rock'):'draw',\n",
    "('paper', 'paper'):'draw',\n",
    "('scissors', 'scissors'):'draw',\n",
    "\n",
    "('rock','paper'):'win',\n",
    "('paper','rock'):'loss',\n",
    "('scissors','paper'):'loss',\n",
    "('paper','scissors'):'win',\n",
    "('scissors','rock'):'win',\n",
    "('rock','scissors'):'loss'\n",
    "}"
   ]
  },
  {
   "cell_type": "code",
   "execution_count": 113,
   "metadata": {},
   "outputs": [],
   "source": [
    "#try with mini sample data\n",
    "df = pd.read_csv(\"Day2sample.txt\", header=None, delim_whitespace='/n')"
   ]
  },
  {
   "cell_type": "code",
   "execution_count": 114,
   "metadata": {},
   "outputs": [
    {
     "name": "stdout",
     "output_type": "stream",
     "text": [
      "rock\n",
      "draw\n"
     ]
    }
   ],
   "source": [
    "opponent = df.loc[0,0]\n",
    "result = df.loc[0,1]\n",
    "\n",
    "print(thier_move_lookup[opponent])\n",
    "print(result_lookup[result])"
   ]
  },
  {
   "cell_type": "code",
   "execution_count": 115,
   "metadata": {},
   "outputs": [
    {
     "data": {
      "text/plain": [
       "{('rock', 'draw'): 'rock',\n",
       " ('paper', 'draw'): 'paper',\n",
       " ('scissors', 'draw'): 'scissors',\n",
       " ('rock', 'win'): 'paper',\n",
       " ('paper', 'loss'): 'rock',\n",
       " ('scissors', 'loss'): 'paper',\n",
       " ('paper', 'win'): 'scissors',\n",
       " ('scissors', 'win'): 'rock',\n",
       " ('rock', 'loss'): 'scissors'}"
      ]
     },
     "execution_count": 115,
     "metadata": {},
     "output_type": "execute_result"
    }
   ],
   "source": [
    "#rearrange the dict to give a 'needed_play' lookup\n",
    "# dict_variable = {key:value for (key,value) in dictonary.items()}\n",
    "\n",
    "play_lookup = {(key[0],value):key[1] for (key,value) in part2_result.items()}\n",
    "play_lookup"
   ]
  },
  {
   "cell_type": "code",
   "execution_count": null,
   "metadata": {},
   "outputs": [],
   "source": []
  },
  {
   "cell_type": "code",
   "execution_count": 116,
   "metadata": {},
   "outputs": [],
   "source": [
    "df['thier_move'] = [thier_move_lookup[x] for x in df[0]]"
   ]
  },
  {
   "cell_type": "code",
   "execution_count": 117,
   "metadata": {},
   "outputs": [],
   "source": [
    "df['result'] = [result_lookup[x] for x in df[1]]"
   ]
  },
  {
   "cell_type": "code",
   "execution_count": 118,
   "metadata": {},
   "outputs": [
    {
     "data": {
      "text/html": [
       "<div>\n",
       "<style scoped>\n",
       "    .dataframe tbody tr th:only-of-type {\n",
       "        vertical-align: middle;\n",
       "    }\n",
       "\n",
       "    .dataframe tbody tr th {\n",
       "        vertical-align: top;\n",
       "    }\n",
       "\n",
       "    .dataframe thead th {\n",
       "        text-align: right;\n",
       "    }\n",
       "</style>\n",
       "<table border=\"1\" class=\"dataframe\">\n",
       "  <thead>\n",
       "    <tr style=\"text-align: right;\">\n",
       "      <th></th>\n",
       "      <th>0</th>\n",
       "      <th>1</th>\n",
       "      <th>thier_move</th>\n",
       "      <th>result</th>\n",
       "    </tr>\n",
       "  </thead>\n",
       "  <tbody>\n",
       "    <tr>\n",
       "      <th>0</th>\n",
       "      <td>A</td>\n",
       "      <td>Y</td>\n",
       "      <td>rock</td>\n",
       "      <td>draw</td>\n",
       "    </tr>\n",
       "    <tr>\n",
       "      <th>1</th>\n",
       "      <td>B</td>\n",
       "      <td>X</td>\n",
       "      <td>paper</td>\n",
       "      <td>loss</td>\n",
       "    </tr>\n",
       "    <tr>\n",
       "      <th>2</th>\n",
       "      <td>C</td>\n",
       "      <td>Z</td>\n",
       "      <td>scissors</td>\n",
       "      <td>win</td>\n",
       "    </tr>\n",
       "  </tbody>\n",
       "</table>\n",
       "</div>"
      ],
      "text/plain": [
       "   0  1 thier_move result\n",
       "0  A  Y       rock   draw\n",
       "1  B  X      paper   loss\n",
       "2  C  Z   scissors    win"
      ]
     },
     "execution_count": 118,
     "metadata": {},
     "output_type": "execute_result"
    }
   ],
   "source": [
    "df"
   ]
  },
  {
   "cell_type": "code",
   "execution_count": 119,
   "metadata": {},
   "outputs": [],
   "source": [
    "df['key'] = df[['thier_move','result']].apply(tuple, axis=1)"
   ]
  },
  {
   "cell_type": "code",
   "execution_count": 120,
   "metadata": {},
   "outputs": [],
   "source": [
    "df['your_move'] = [play_lookup[x] for x in df['key']]"
   ]
  },
  {
   "cell_type": "code",
   "execution_count": 121,
   "metadata": {},
   "outputs": [
    {
     "data": {
      "text/html": [
       "<div>\n",
       "<style scoped>\n",
       "    .dataframe tbody tr th:only-of-type {\n",
       "        vertical-align: middle;\n",
       "    }\n",
       "\n",
       "    .dataframe tbody tr th {\n",
       "        vertical-align: top;\n",
       "    }\n",
       "\n",
       "    .dataframe thead th {\n",
       "        text-align: right;\n",
       "    }\n",
       "</style>\n",
       "<table border=\"1\" class=\"dataframe\">\n",
       "  <thead>\n",
       "    <tr style=\"text-align: right;\">\n",
       "      <th></th>\n",
       "      <th>0</th>\n",
       "      <th>1</th>\n",
       "      <th>thier_move</th>\n",
       "      <th>result</th>\n",
       "      <th>key</th>\n",
       "      <th>your_move</th>\n",
       "    </tr>\n",
       "  </thead>\n",
       "  <tbody>\n",
       "    <tr>\n",
       "      <th>0</th>\n",
       "      <td>A</td>\n",
       "      <td>Y</td>\n",
       "      <td>rock</td>\n",
       "      <td>draw</td>\n",
       "      <td>(rock, draw)</td>\n",
       "      <td>rock</td>\n",
       "    </tr>\n",
       "    <tr>\n",
       "      <th>1</th>\n",
       "      <td>B</td>\n",
       "      <td>X</td>\n",
       "      <td>paper</td>\n",
       "      <td>loss</td>\n",
       "      <td>(paper, loss)</td>\n",
       "      <td>rock</td>\n",
       "    </tr>\n",
       "    <tr>\n",
       "      <th>2</th>\n",
       "      <td>C</td>\n",
       "      <td>Z</td>\n",
       "      <td>scissors</td>\n",
       "      <td>win</td>\n",
       "      <td>(scissors, win)</td>\n",
       "      <td>rock</td>\n",
       "    </tr>\n",
       "  </tbody>\n",
       "</table>\n",
       "</div>"
      ],
      "text/plain": [
       "   0  1 thier_move result              key your_move\n",
       "0  A  Y       rock   draw     (rock, draw)      rock\n",
       "1  B  X      paper   loss    (paper, loss)      rock\n",
       "2  C  Z   scissors    win  (scissors, win)      rock"
      ]
     },
     "execution_count": 121,
     "metadata": {},
     "output_type": "execute_result"
    }
   ],
   "source": [
    "df"
   ]
  },
  {
   "cell_type": "code",
   "execution_count": 122,
   "metadata": {},
   "outputs": [],
   "source": [
    "# Now work out the scores\n",
    "# A=rock=1=X, B=paper=2=Y, C=scissors=3=Z\n",
    "# 0, 3, 6 loss draw win\n",
    "\n",
    "new_score_lookup = {\"win\":6, \"loss\":0, \"draw\":3}\n",
    "new_play_score = {\"rock\":1, \"paper\":2, \"scissors\":3}"
   ]
  },
  {
   "cell_type": "code",
   "execution_count": 123,
   "metadata": {},
   "outputs": [],
   "source": [
    "df['game_score'] = [new_score_lookup[x] for x in df['result']]"
   ]
  },
  {
   "cell_type": "code",
   "execution_count": 124,
   "metadata": {},
   "outputs": [],
   "source": [
    "df['move_score'] = [new_play_score[x] for x in df['your_move']]"
   ]
  },
  {
   "cell_type": "code",
   "execution_count": 125,
   "metadata": {},
   "outputs": [
    {
     "data": {
      "text/html": [
       "<div>\n",
       "<style scoped>\n",
       "    .dataframe tbody tr th:only-of-type {\n",
       "        vertical-align: middle;\n",
       "    }\n",
       "\n",
       "    .dataframe tbody tr th {\n",
       "        vertical-align: top;\n",
       "    }\n",
       "\n",
       "    .dataframe thead th {\n",
       "        text-align: right;\n",
       "    }\n",
       "</style>\n",
       "<table border=\"1\" class=\"dataframe\">\n",
       "  <thead>\n",
       "    <tr style=\"text-align: right;\">\n",
       "      <th></th>\n",
       "      <th>0</th>\n",
       "      <th>1</th>\n",
       "      <th>thier_move</th>\n",
       "      <th>result</th>\n",
       "      <th>key</th>\n",
       "      <th>your_move</th>\n",
       "      <th>game_score</th>\n",
       "      <th>move_score</th>\n",
       "    </tr>\n",
       "  </thead>\n",
       "  <tbody>\n",
       "    <tr>\n",
       "      <th>0</th>\n",
       "      <td>A</td>\n",
       "      <td>Y</td>\n",
       "      <td>rock</td>\n",
       "      <td>draw</td>\n",
       "      <td>(rock, draw)</td>\n",
       "      <td>rock</td>\n",
       "      <td>3</td>\n",
       "      <td>1</td>\n",
       "    </tr>\n",
       "    <tr>\n",
       "      <th>1</th>\n",
       "      <td>B</td>\n",
       "      <td>X</td>\n",
       "      <td>paper</td>\n",
       "      <td>loss</td>\n",
       "      <td>(paper, loss)</td>\n",
       "      <td>rock</td>\n",
       "      <td>0</td>\n",
       "      <td>1</td>\n",
       "    </tr>\n",
       "    <tr>\n",
       "      <th>2</th>\n",
       "      <td>C</td>\n",
       "      <td>Z</td>\n",
       "      <td>scissors</td>\n",
       "      <td>win</td>\n",
       "      <td>(scissors, win)</td>\n",
       "      <td>rock</td>\n",
       "      <td>6</td>\n",
       "      <td>1</td>\n",
       "    </tr>\n",
       "  </tbody>\n",
       "</table>\n",
       "</div>"
      ],
      "text/plain": [
       "   0  1 thier_move result              key your_move  game_score  move_score\n",
       "0  A  Y       rock   draw     (rock, draw)      rock           3           1\n",
       "1  B  X      paper   loss    (paper, loss)      rock           0           1\n",
       "2  C  Z   scissors    win  (scissors, win)      rock           6           1"
      ]
     },
     "execution_count": 125,
     "metadata": {},
     "output_type": "execute_result"
    }
   ],
   "source": [
    "df"
   ]
  },
  {
   "cell_type": "code",
   "execution_count": 126,
   "metadata": {},
   "outputs": [],
   "source": [
    "df['total_score'] = df.game_score + df.move_score"
   ]
  },
  {
   "cell_type": "code",
   "execution_count": 127,
   "metadata": {},
   "outputs": [
    {
     "data": {
      "text/html": [
       "<div>\n",
       "<style scoped>\n",
       "    .dataframe tbody tr th:only-of-type {\n",
       "        vertical-align: middle;\n",
       "    }\n",
       "\n",
       "    .dataframe tbody tr th {\n",
       "        vertical-align: top;\n",
       "    }\n",
       "\n",
       "    .dataframe thead th {\n",
       "        text-align: right;\n",
       "    }\n",
       "</style>\n",
       "<table border=\"1\" class=\"dataframe\">\n",
       "  <thead>\n",
       "    <tr style=\"text-align: right;\">\n",
       "      <th></th>\n",
       "      <th>0</th>\n",
       "      <th>1</th>\n",
       "      <th>thier_move</th>\n",
       "      <th>result</th>\n",
       "      <th>key</th>\n",
       "      <th>your_move</th>\n",
       "      <th>game_score</th>\n",
       "      <th>move_score</th>\n",
       "      <th>total_score</th>\n",
       "    </tr>\n",
       "  </thead>\n",
       "  <tbody>\n",
       "    <tr>\n",
       "      <th>0</th>\n",
       "      <td>A</td>\n",
       "      <td>Y</td>\n",
       "      <td>rock</td>\n",
       "      <td>draw</td>\n",
       "      <td>(rock, draw)</td>\n",
       "      <td>rock</td>\n",
       "      <td>3</td>\n",
       "      <td>1</td>\n",
       "      <td>4</td>\n",
       "    </tr>\n",
       "    <tr>\n",
       "      <th>1</th>\n",
       "      <td>B</td>\n",
       "      <td>X</td>\n",
       "      <td>paper</td>\n",
       "      <td>loss</td>\n",
       "      <td>(paper, loss)</td>\n",
       "      <td>rock</td>\n",
       "      <td>0</td>\n",
       "      <td>1</td>\n",
       "      <td>1</td>\n",
       "    </tr>\n",
       "    <tr>\n",
       "      <th>2</th>\n",
       "      <td>C</td>\n",
       "      <td>Z</td>\n",
       "      <td>scissors</td>\n",
       "      <td>win</td>\n",
       "      <td>(scissors, win)</td>\n",
       "      <td>rock</td>\n",
       "      <td>6</td>\n",
       "      <td>1</td>\n",
       "      <td>7</td>\n",
       "    </tr>\n",
       "  </tbody>\n",
       "</table>\n",
       "</div>"
      ],
      "text/plain": [
       "   0  1 thier_move result              key your_move  game_score  move_score  \\\n",
       "0  A  Y       rock   draw     (rock, draw)      rock           3           1   \n",
       "1  B  X      paper   loss    (paper, loss)      rock           0           1   \n",
       "2  C  Z   scissors    win  (scissors, win)      rock           6           1   \n",
       "\n",
       "   total_score  \n",
       "0            4  \n",
       "1            1  \n",
       "2            7  "
      ]
     },
     "execution_count": 127,
     "metadata": {},
     "output_type": "execute_result"
    }
   ],
   "source": [
    "df"
   ]
  },
  {
   "cell_type": "code",
   "execution_count": 128,
   "metadata": {},
   "outputs": [
    {
     "data": {
      "text/plain": [
       "12"
      ]
     },
     "execution_count": 128,
     "metadata": {},
     "output_type": "execute_result"
    }
   ],
   "source": [
    "sum(df.total_score)"
   ]
  },
  {
   "cell_type": "code",
   "execution_count": 129,
   "metadata": {},
   "outputs": [
    {
     "data": {
      "text/html": [
       "<div>\n",
       "<style scoped>\n",
       "    .dataframe tbody tr th:only-of-type {\n",
       "        vertical-align: middle;\n",
       "    }\n",
       "\n",
       "    .dataframe tbody tr th {\n",
       "        vertical-align: top;\n",
       "    }\n",
       "\n",
       "    .dataframe thead th {\n",
       "        text-align: right;\n",
       "    }\n",
       "</style>\n",
       "<table border=\"1\" class=\"dataframe\">\n",
       "  <thead>\n",
       "    <tr style=\"text-align: right;\">\n",
       "      <th></th>\n",
       "      <th>0</th>\n",
       "      <th>1</th>\n",
       "      <th>thier_move</th>\n",
       "      <th>result</th>\n",
       "      <th>key</th>\n",
       "    </tr>\n",
       "  </thead>\n",
       "  <tbody>\n",
       "    <tr>\n",
       "      <th>0</th>\n",
       "      <td>A</td>\n",
       "      <td>X</td>\n",
       "      <td>rock</td>\n",
       "      <td>loss</td>\n",
       "      <td>(rock, loss)</td>\n",
       "    </tr>\n",
       "    <tr>\n",
       "      <th>1</th>\n",
       "      <td>A</td>\n",
       "      <td>X</td>\n",
       "      <td>rock</td>\n",
       "      <td>loss</td>\n",
       "      <td>(rock, loss)</td>\n",
       "    </tr>\n",
       "    <tr>\n",
       "      <th>2</th>\n",
       "      <td>A</td>\n",
       "      <td>Z</td>\n",
       "      <td>rock</td>\n",
       "      <td>win</td>\n",
       "      <td>(rock, win)</td>\n",
       "    </tr>\n",
       "    <tr>\n",
       "      <th>3</th>\n",
       "      <td>B</td>\n",
       "      <td>X</td>\n",
       "      <td>paper</td>\n",
       "      <td>loss</td>\n",
       "      <td>(paper, loss)</td>\n",
       "    </tr>\n",
       "    <tr>\n",
       "      <th>4</th>\n",
       "      <td>A</td>\n",
       "      <td>X</td>\n",
       "      <td>rock</td>\n",
       "      <td>loss</td>\n",
       "      <td>(rock, loss)</td>\n",
       "    </tr>\n",
       "    <tr>\n",
       "      <th>...</th>\n",
       "      <td>...</td>\n",
       "      <td>...</td>\n",
       "      <td>...</td>\n",
       "      <td>...</td>\n",
       "      <td>...</td>\n",
       "    </tr>\n",
       "    <tr>\n",
       "      <th>2495</th>\n",
       "      <td>C</td>\n",
       "      <td>Z</td>\n",
       "      <td>scissors</td>\n",
       "      <td>win</td>\n",
       "      <td>(scissors, win)</td>\n",
       "    </tr>\n",
       "    <tr>\n",
       "      <th>2496</th>\n",
       "      <td>C</td>\n",
       "      <td>Y</td>\n",
       "      <td>scissors</td>\n",
       "      <td>draw</td>\n",
       "      <td>(scissors, draw)</td>\n",
       "    </tr>\n",
       "    <tr>\n",
       "      <th>2497</th>\n",
       "      <td>B</td>\n",
       "      <td>X</td>\n",
       "      <td>paper</td>\n",
       "      <td>loss</td>\n",
       "      <td>(paper, loss)</td>\n",
       "    </tr>\n",
       "    <tr>\n",
       "      <th>2498</th>\n",
       "      <td>C</td>\n",
       "      <td>Y</td>\n",
       "      <td>scissors</td>\n",
       "      <td>draw</td>\n",
       "      <td>(scissors, draw)</td>\n",
       "    </tr>\n",
       "    <tr>\n",
       "      <th>2499</th>\n",
       "      <td>C</td>\n",
       "      <td>Y</td>\n",
       "      <td>scissors</td>\n",
       "      <td>draw</td>\n",
       "      <td>(scissors, draw)</td>\n",
       "    </tr>\n",
       "  </tbody>\n",
       "</table>\n",
       "<p>2500 rows × 5 columns</p>\n",
       "</div>"
      ],
      "text/plain": [
       "      0  1 thier_move result               key\n",
       "0     A  X       rock   loss      (rock, loss)\n",
       "1     A  X       rock   loss      (rock, loss)\n",
       "2     A  Z       rock    win       (rock, win)\n",
       "3     B  X      paper   loss     (paper, loss)\n",
       "4     A  X       rock   loss      (rock, loss)\n",
       "...  .. ..        ...    ...               ...\n",
       "2495  C  Z   scissors    win   (scissors, win)\n",
       "2496  C  Y   scissors   draw  (scissors, draw)\n",
       "2497  B  X      paper   loss     (paper, loss)\n",
       "2498  C  Y   scissors   draw  (scissors, draw)\n",
       "2499  C  Y   scissors   draw  (scissors, draw)\n",
       "\n",
       "[2500 rows x 5 columns]"
      ]
     },
     "execution_count": 129,
     "metadata": {},
     "output_type": "execute_result"
    }
   ],
   "source": [
    "# Now repeat on real input\n",
    "\n",
    "df = pd.read_csv(\"Day2input.txt\", header=None, delim_whitespace='/n')\n",
    "\n",
    "df['thier_move'] = [thier_move_lookup[x] for x in df[0]]\n",
    "df['result'] = [result_lookup[x] for x in df[1]]\n",
    "df['key'] = df[['thier_move','result']].apply(tuple, axis=1)\n",
    "df"
   ]
  },
  {
   "cell_type": "code",
   "execution_count": 130,
   "metadata": {},
   "outputs": [
    {
     "data": {
      "text/plain": [
       "{('rock', 'draw'): 'rock',\n",
       " ('paper', 'draw'): 'paper',\n",
       " ('scissors', 'draw'): 'scissors',\n",
       " ('rock', 'win'): 'paper',\n",
       " ('paper', 'loss'): 'rock',\n",
       " ('scissors', 'loss'): 'paper',\n",
       " ('paper', 'win'): 'scissors',\n",
       " ('scissors', 'win'): 'rock',\n",
       " ('rock', 'loss'): 'scissors'}"
      ]
     },
     "execution_count": 130,
     "metadata": {},
     "output_type": "execute_result"
    }
   ],
   "source": [
    "play_lookup"
   ]
  },
  {
   "cell_type": "code",
   "execution_count": 131,
   "metadata": {},
   "outputs": [],
   "source": [
    "df['your_move'] = [play_lookup[x] for x in df['key']]\n",
    "\n",
    "df['game_score'] = [new_score_lookup[x] for x in df['result']]\n",
    "df['move_score'] = [new_play_score[x] for x in df['your_move']]\n",
    "\n",
    "df['total_score'] = df.game_score + df.move_score"
   ]
  },
  {
   "cell_type": "code",
   "execution_count": 132,
   "metadata": {},
   "outputs": [
    {
     "data": {
      "text/plain": [
       "11657"
      ]
     },
     "execution_count": 132,
     "metadata": {},
     "output_type": "execute_result"
    }
   ],
   "source": [
    "sum(df.total_score)"
   ]
  },
  {
   "cell_type": "code",
   "execution_count": null,
   "metadata": {},
   "outputs": [],
   "source": []
  }
 ],
 "metadata": {
  "kernelspec": {
   "display_name": "Python 3",
   "language": "python",
   "name": "python3"
  },
  "language_info": {
   "codemirror_mode": {
    "name": "ipython",
    "version": 3
   },
   "file_extension": ".py",
   "mimetype": "text/x-python",
   "name": "python",
   "nbconvert_exporter": "python",
   "pygments_lexer": "ipython3",
   "version": "3.7.3"
  }
 },
 "nbformat": 4,
 "nbformat_minor": 4
}
